{
 "cells": [
  {
   "cell_type": "code",
   "execution_count": 1,
   "metadata": {},
   "outputs": [
    {
     "name": "stdout",
     "output_type": "stream",
     "text": [
      "Populating the interactive namespace from numpy and matplotlib\n"
     ]
    }
   ],
   "source": [
    "%pylab nbagg"
   ]
  },
  {
   "cell_type": "code",
   "execution_count": 8,
   "metadata": {},
   "outputs": [
    {
     "name": "stdout",
     "output_type": "stream",
     "text": [
      "Choose platform:\n",
      "[0] <pyopencl.Platform 'Intel Gen OCL Driver' at 0x7fadbcea8740>\n",
      "[1] <pyopencl.Platform 'Intel(R) OpenCL' at 0x557f37cd0610>\n",
      "[2] <pyopencl.Platform 'AMD Accelerated Parallel Processing' at 0x7fadb5145430>\n",
      "Choice [0]:\n",
      "Set the environment variable PYOPENCL_CTX='' to avoid being asked again.\n"
     ]
    }
   ],
   "source": [
    "import numpy as np\n",
    "import os\n",
    "import pyopencl as cl\n",
    "import pyopencl.array as cla\n",
    "\n",
    "# Create context and queue\n",
    "ctx = cl.create_some_context(interactive=True)\n",
    "queue = cl.CommandQueue(ctx)\n"
   ]
  },
  {
   "cell_type": "code",
   "execution_count": 9,
   "metadata": {},
   "outputs": [],
   "source": [
    "# Create host and device arrays\n",
    "N = 10000\n",
    "a = np.arange(N, dtype=np.float32)\n",
    "b = np.ones((N,), dtype=np.float32)\n",
    "d_a = cla.to_device(queue, a)\n",
    "d_b = cla.to_device(queue, b)\n",
    "d_res = cla.empty_like(d_a)"
   ]
  },
  {
   "cell_type": "code",
   "execution_count": 10,
   "metadata": {},
   "outputs": [
    {
     "name": "stdout",
     "output_type": "stream",
     "text": [
      "The pyopencl.ipython_ext extension is already loaded. To reload it, use:\n",
      "  %reload_ext pyopencl.ipython_ext\n"
     ]
    }
   ],
   "source": [
    "%load_ext pyopencl.ipython_ext\n",
    "\n",
    "#load magic expression to code kernel in notebook"
   ]
  },
  {
   "cell_type": "code",
   "execution_count": 11,
   "metadata": {},
   "outputs": [],
   "source": [
    "%%cl_kernel \n",
    "\n",
    "//define the kernel:\n",
    "    \n",
    "kernel void gpu_add(\n",
    "        global float* arr1, \n",
    "        global float* arr2, \n",
    "        global float* res, \n",
    "        int N) \n",
    "    {\n",
    "        int tid = get_global_id(0); // Thread ID\n",
    "        if (tid < N) {\n",
    "            res[tid] = arr1[tid] + arr2[tid];\n",
    "        }\n",
    "     }"
   ]
  },
  {
   "cell_type": "code",
   "execution_count": 12,
   "metadata": {},
   "outputs": [
    {
     "data": {
      "text/plain": [
       "True"
      ]
     },
     "execution_count": 12,
     "metadata": {},
     "output_type": "execute_result"
    }
   ],
   "source": [
    "# Build and execute the kernel\n",
    "gpu_add(queue, (N,), None, \n",
    "        d_a.data, d_b.data, d_res.data, np.int32(N))\n",
    "# retrieve the result from GPU\n",
    "numpy.allclose(a+b, d_res.get())"
   ]
  }
 ],
 "metadata": {
  "kernelspec": {
   "display_name": "Python 3",
   "language": "python",
   "name": "python3"
  },
  "language_info": {
   "codemirror_mode": {
    "name": "ipython",
    "version": 3
   },
   "file_extension": ".py",
   "mimetype": "text/x-python",
   "name": "python",
   "nbconvert_exporter": "python",
   "pygments_lexer": "ipython3",
   "version": "3.5.3"
  }
 },
 "nbformat": 4,
 "nbformat_minor": 2
}
